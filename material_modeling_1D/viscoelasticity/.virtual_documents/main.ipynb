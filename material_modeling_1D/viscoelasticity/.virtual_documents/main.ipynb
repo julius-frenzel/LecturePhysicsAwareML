


import datetime

import src.data as d
import src.models as m
import src.plots as p

now = datetime.datetime.now





!git clone https://github.com/CPShub/LecturePhysicsAwareML.git


import datetime

from LecturePhysicsAwareML.material_modeling_1D.viscoelasticity.src import data as d
from LecturePhysicsAwareML.material_modeling_1D.viscoelasticity.src import models as m
from LecturePhysicsAwareML.material_modeling_1D.viscoelasticity.src import plots as p

now = datetime.datetime.now





%rm -rf LecturePhysicsAwareML














# model parameters
E_infty = 0.5
E = 2
eta = 1
params = {
    'E_infty': E_infty,
    'E': E,
    'eta': eta
    }

# harmonic load cases
n = 100      # number of data points
omegas = [1] # frequencies
As = [1]     # amplitudes

eps, eps_dot, sig, dt = d.generate_data_harmonic(E_infty, E, eta, n, omegas, As)
p.plot_data(eps, eps_dot, sig, omegas, As)





omegas = [1] # frequencies
As = [1]     # amplitudes

eps, eps_dot, sig, dt = d.generate_data_relaxation(E_infty, E, eta, n, omegas, As)
p.plot_data(eps, eps_dot, sig, omegas, As)





# harmonic calibration data
omegas_c = [1] # frequencies
As_c = [1]     # amplitudes
eps_c, eps_dot_c, sig_c, dt_c = d.generate_data_harmonic(E_infty, E, eta, n, omegas_c, As_c)

# harmonic test data
omegas_t1 = [1, 1.5, 2]
As_t1 = [1, 2, 3]
eps_t1, eps_dot_t1, sig_t1, dt_t1 = d.generate_data_harmonic(E_infty, E, eta, n, omegas_t1, As_t1)

# relaxation test data
omegas_t2 = [1, 1.5, 2]
As_t2 = [1, 2, 3]
eps_t2, eps_dot_t2, sig_t2, dt_t2 = d.generate_data_relaxation(E_infty, E, eta, n, omegas_t2, As_t2)





# Available model options
# 'Maxwell' - Analytical Maxwell model
# 'Naive' - Naive FFNN-based RNN model
# 'GSM' - Generalized standard material
m_type = 'Maxwell'

# Recommended architectures
# 'Maxwell': none, none, none
# 'Naive': 16-2, softplus-linear, False-False
# 'GSM': 16-1, softplus-linear, False-False
model = m.build(
    m_type,
    params,
    units=[16, 2],
    activation=['softplus', 'linear'],
    non_neg=[False, False]
)





# training epochs
NEPOCHS = 10000

t1 = now()
model.optimizer.learning_rate.assign(0.002)
h = model.fit([eps_c, dt_c], [sig_c], 
            epochs=NEPOCHS,  
            verbose=2)
t2 = now()
print('it took', t2 - t1, '(sec) to calibrate the model')
p.plot_loss(h.history)





# evaluation on calibration data
sig_pred = model([eps_c, dt_c])
p.plot_model_pred(eps_c, sig_c, sig_pred, omegas_c, As_c)


# evaluation on harmonic data
sig_pred = model([eps_t1, dt_t1])
p.plot_model_pred(eps_t1, sig_t1, sig_pred, omegas_t1, As_t1)


# evaluation on relaxation data
sig_pred = model([eps_t2, dt_t2])
p.plot_model_pred(eps_t2, sig_t2, sig_pred, omegas_t2, As_t2)
